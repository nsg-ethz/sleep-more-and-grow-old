{
 "cells": [
  {
   "cell_type": "code",
   "execution_count": null,
   "metadata": {},
   "outputs": [],
   "source": [
    "from plots import power_model_plot, energy_savings_plot, failure_rate_plot"
   ]
  },
  {
   "cell_type": "code",
   "execution_count": null,
   "metadata": {},
   "outputs": [],
   "source": [
    "%load_ext autoreload\n",
    "%autoreload 2"
   ]
  },
  {
   "cell_type": "code",
   "execution_count": null,
   "metadata": {},
   "outputs": [],
   "source": [
    "figure = failure_rate_plot()\n",
    "figure.show()\n",
    "figure.write_image('failure_rate.pdf')\n",
    "figure.write_image('failure_rate.png')"
   ]
  },
  {
   "cell_type": "code",
   "execution_count": null,
   "metadata": {},
   "outputs": [],
   "source": [
    "P0 = [\n",
    "    # 0.99,\n",
    "    0.90,\n",
    "    0.75,\n",
    "    0.5,\n",
    "    0.1,\n",
    "]\n",
    "figure = energy_savings_plot(P0)\n",
    "figure.show()\n",
    "figure.write_image('savings.pdf')\n",
    "figure.write_image('savings.png')"
   ]
  },
  {
   "cell_type": "code",
   "execution_count": null,
   "metadata": {},
   "outputs": [],
   "source": [
    "P0 = 0.9\n",
    "figure = power_model_plot(P0)\n",
    "figure.show()\n",
    "figure.write_image('power_model.pdf')\n",
    "figure.write_image('power_model.png')"
   ]
  }
 ],
 "metadata": {
  "interpreter": {
   "hash": "091687e8fbf5024718b704984ad1f7c325ad09fa5e8ee50306958c3430f483d4"
  },
  "kernelspec": {
   "display_name": "Python 3 (ipykernel)",
   "language": "python",
   "name": "python3"
  },
  "language_info": {
   "codemirror_mode": {
    "name": "ipython",
    "version": 3
   },
   "file_extension": ".py",
   "mimetype": "text/x-python",
   "name": "python",
   "nbconvert_exporter": "python",
   "pygments_lexer": "ipython3",
   "version": "3.9.12"
  }
 },
 "nbformat": 4,
 "nbformat_minor": 2
}
